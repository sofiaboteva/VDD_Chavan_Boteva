{
 "cells": [
  {
   "cell_type": "code",
   "execution_count": 1,
   "id": "83c38967",
   "metadata": {},
   "outputs": [],
   "source": [
    "import csv\n",
    "import json\n",
    "import numpy as np\n",
    "from collections import Counter\n",
    "from copy import deepcopy"
   ]
  },
  {
   "cell_type": "code",
   "execution_count": 2,
   "id": "c4b4b693",
   "metadata": {},
   "outputs": [],
   "source": [
    "with open(\"donnees_fin.csv\",'r') as f:\n",
    "    reader = csv.reader(f,delimiter=';')\n",
    "    next(reader)\n",
    "    data_clara = {'children':[]}\n",
    "    data_sofia = {'children':[]}\n",
    "    for row in reader:\n",
    "        if row[0]=='Clara':\n",
    "            data_clara['children'].append({'Repas':row[1],'Categorie':row[2],'Produit':row[3]})\n",
    "        if row[0]=='Sofia':\n",
    "            data_sofia['children'].append({'Repas':row[1],'Categorie':row[2],'Produit':row[3]})"
   ]
  },
  {
   "cell_type": "code",
   "execution_count": 3,
   "id": "23dff404",
   "metadata": {},
   "outputs": [],
   "source": [
    "liste = ['Repas']\n",
    "def check_new(obj):\n",
    "    if obj in liste:\n",
    "        return liste\n",
    "    liste.append(obj)\n",
    "    return liste\n",
    "\n",
    "liste_cat = ['Cat']\n",
    "def check_new_cat(obj):\n",
    "    if obj in liste_cat:\n",
    "        return liste_cat\n",
    "    liste_cat.append(obj)\n",
    "    return liste_cat\n",
    "\n",
    "liste_prod = [{'name': 'Prod', 'value': 0}]\n",
    "def check_new_prod(obj):\n",
    "    New_Flag = 'True'\n",
    "    for i in range(len(liste_prod)): \n",
    "        if obj == liste_prod[i]['name']:\n",
    "            liste_prod[i]['value']+=1\n",
    "            New_Flag = 'False'\n",
    "            return liste_prod\n",
    "    if New_Flag:\n",
    "        liste_prod.append({'name':obj,'value':1})\n",
    "    return liste_prod"
   ]
  },
  {
   "cell_type": "code",
   "execution_count": 4,
   "id": "f50e8c17",
   "metadata": {},
   "outputs": [
    {
     "name": "stdout",
     "output_type": "stream",
     "text": [
      "['boisson', 'dejeuner', 'diner', 'petit dejeuner', 'snack']\n"
     ]
    }
   ],
   "source": [
    "for row in data_sofia['children']:\n",
    "    repas = row['Repas']\n",
    "    sort_list_repas = check_new(repas) \n",
    "sort_list_repas = sort_list_repas[1:]\n",
    "liste = ['Repas']\n",
    "print(sort_list_repas)"
   ]
  },
  {
   "cell_type": "code",
   "execution_count": 5,
   "id": "98acebc3",
   "metadata": {},
   "outputs": [
    {
     "name": "stdout",
     "output_type": "stream",
     "text": [
      "{'name': 'Sofia', 'children': ['boisson', 'dejeuner', 'diner', 'petit dejeuner', 'snack']}\n"
     ]
    }
   ],
   "source": [
    "data = {'name': 'Sofia', 'children':{}}\n",
    "\n",
    "data['children'] = deepcopy(sort_list_repas)\n",
    "print(data)"
   ]
  },
  {
   "cell_type": "code",
   "execution_count": 6,
   "id": "03b83f44",
   "metadata": {},
   "outputs": [
    {
     "name": "stdout",
     "output_type": "stream",
     "text": [
      "{'name': 'Sofia', 'children': [{'name': 'boisson', 'children': ['alcoolise', 'non alcoolise']}, {'name': 'dejeuner', 'children': ['autre', 'cereales', 'dessert', 'pates', 'salade', 'sandwich', 'soupe', 'viande']}, {'name': 'diner', 'children': ['autre', 'cereales', 'dessert', 'laitier', 'legumes', 'pates', 'poisson', 'salade', 'sandwich', 'soupe', 'viande']}, {'name': 'petit dejeuner', 'children': ['fruit', 'boulangerie', 'cereales', 'dessert', 'laitier', 'œufs']}, {'name': 'snack', 'children': ['autre', 'dessert', 'fruit', 'laitier']}]}\n"
     ]
    }
   ],
   "source": [
    "for idx,repas in enumerate(sort_list_repas):\n",
    "    liste_cat = ['Cat']\n",
    "    for row in data_sofia['children']:\n",
    "        if row['Repas'] == repas:\n",
    "            cat = row['Categorie']\n",
    "            sort_list_cat = check_new_cat(cat)\n",
    "    sort_list_cat = sort_list_cat[1:]\n",
    "    data['children'][idx] = {'name':repas, 'children':sort_list_cat}\n",
    "print(data)"
   ]
  },
  {
   "cell_type": "code",
   "execution_count": 7,
   "id": "e87b43ef",
   "metadata": {},
   "outputs": [],
   "source": [
    "for idx,repas in enumerate(sort_list_repas):\n",
    "    sort_list_cat = data['children'][idx]['children']\n",
    "    for idx1,cat in enumerate(sort_list_cat):\n",
    "        liste_prod = [{'name': 'Prod', 'Value': 0}]\n",
    "        for row in data_sofia['children']:\n",
    "            if row['Repas'] == repas:\n",
    "                if row['Categorie'] == cat:\n",
    "                    prod = row['Produit']\n",
    "                    sort_list_prod = check_new_prod(prod)\n",
    "        sort_list_prod = sort_list_prod[1:]\n",
    "        data['children'][idx]['children'][idx1] = {cat: sort_list_prod}"
   ]
  },
  {
   "cell_type": "code",
   "execution_count": 8,
   "id": "aec8784a",
   "metadata": {},
   "outputs": [
    {
     "data": {
      "text/plain": [
       "{'name': 'Sofia',\n",
       " 'children': [{'name': 'boisson',\n",
       "   'children': [{'alcoolise': [{'name': 'biere', 'value': 3},\n",
       "      {'name': 'spritz', 'value': 4},\n",
       "      {'name': 'vin', 'value': 3},\n",
       "      {'name': 'whiskey sour', 'value': 1}]},\n",
       "    {'non alcoolise': [{'name': 'cafe', 'value': 9},\n",
       "      {'name': 'cafe glace', 'value': 1},\n",
       "      {'name': 'cappucino', 'value': 4},\n",
       "      {'name': 'eau', 'value': 7},\n",
       "      {'name': 'eau vitaminee', 'value': 1},\n",
       "      {'name': 'ice tea', 'value': 2},\n",
       "      {'name': \"jus d'orange\", 'value': 1},\n",
       "      {'name': 'jus de fraises', 'value': 1},\n",
       "      {'name': 'latte', 'value': 1},\n",
       "      {'name': 'the noir', 'value': 1}]}]},\n",
       "  {'name': 'dejeuner',\n",
       "   'children': [{'autre': [{'name': 'sushi', 'value': 1}]},\n",
       "    {'cereales': [{'name': 'couscous', 'value': 2},\n",
       "      {'name': 'riz', 'value': 1}]},\n",
       "    {'dessert': [{'name': 'tarte au citron', 'value': 1}]},\n",
       "    {'pates': [{'name': 'pates au saumon', 'value': 1},\n",
       "      {'name': 'ravioli', 'value': 1}]},\n",
       "    {'salade': [{'name': 'salade grecque', 'value': 1}]},\n",
       "    {'sandwich': [{'name': 'ciabbata mozzarella', 'value': 1},\n",
       "      {'name': 'sandwich', 'value': 2}]},\n",
       "    {'soupe': [{'name': 'soupe', 'value': 1},\n",
       "      {'name': \"soupe d'agneau\", 'value': 1},\n",
       "      {'name': 'soupe de poulet', 'value': 2}]},\n",
       "    {'viande': [{'name': 'porc', 'value': 2},\n",
       "      {'name': 'shnitzel', 'value': 1}]}]},\n",
       "  {'name': 'diner',\n",
       "   'children': [{'autre': [{'name': 'apero', 'value': 1},\n",
       "      {'name': 'gnudi aux epinards ', 'value': 1},\n",
       "      {'name': 'pizza', 'value': 1}]},\n",
       "    {'cereales': [{'name': 'couscous', 'value': 1},\n",
       "      {'name': 'polenta', 'value': 1},\n",
       "      {'name': 'riz', 'value': 1}]},\n",
       "    {'dessert': [{'name': 'brownie', 'value': 1},\n",
       "      {'name': 'glace', 'value': 1}]},\n",
       "    {'laitier': [{'name': 'yogurt', 'value': 1}]},\n",
       "    {'legumes': [{'name': 'soupe de tomates', 'value': 1}]},\n",
       "    {'pates': [{'name': 'lasagne', 'value': 1},\n",
       "      {'name': 'pates au saumon', 'value': 1},\n",
       "      {'name': 'pates fruits de mer', 'value': 1}]},\n",
       "    {'poisson': [{'name': 'moules', 'value': 1}]},\n",
       "    {'salade': [{'name': 'salade à la burrata', 'value': 1},\n",
       "      {'name': 'salade grecque', 'value': 1}]},\n",
       "    {'sandwich': [{'name': 'dürüm', 'value': 1}]},\n",
       "    {'soupe': [{'name': 'soupe de poulet', 'value': 1}]},\n",
       "    {'viande': [{'name': 'carpaccio', 'value': 1},\n",
       "      {'name': 'poulet', 'value': 1},\n",
       "      {'name': 'steak hache', 'value': 1}]}]},\n",
       "  {'name': 'petit dejeuner',\n",
       "   'children': [{'fruit': [{'name': 'avocat', 'value': 1},\n",
       "      {'name': 'banane', 'value': 1},\n",
       "      {'name': 'fraises', 'value': 3}]},\n",
       "    {'boulangerie': [{'name': 'brioche', 'value': 1},\n",
       "      {'name': 'brioche a prosciutto', 'value': 1},\n",
       "      {'name': 'cannoli', 'value': 2},\n",
       "      {'name': 'croissant', 'value': 2},\n",
       "      {'name': 'tartine a la confiture', 'value': 1}]},\n",
       "    {'cereales': [{'name': 'porridge', 'value': 4}]},\n",
       "    {'dessert': [{'name': 'tarte a la ricotta', 'value': 1}]},\n",
       "    {'laitier': [{'name': 'cottage cheese', 'value': 2},\n",
       "      {'name': 'yogurt', 'value': 1}]},\n",
       "    {'œufs': [{'name': 'œufs durs', 'value': 1},\n",
       "      {'name': 'omelette', 'value': 1}]}]},\n",
       "  {'name': 'snack',\n",
       "   'children': [{'autre': [{'name': 'chips', 'value': 1},\n",
       "      {'name': 'chips nature', 'value': 1}]},\n",
       "    {'dessert': [{'name': 'chocolat', 'value': 2},\n",
       "      {'name': 'compote', 'value': 1},\n",
       "      {'name': 'glace vanille', 'value': 1},\n",
       "      {'name': 'KitKat', 'value': 1},\n",
       "      {'name': 'macaron', 'value': 1},\n",
       "      {'name': 'mousse-vanille', 'value': 1}]},\n",
       "    {'fruit': [{'name': 'avocat', 'value': 1},\n",
       "      {'name': 'fraises', 'value': 2}]},\n",
       "    {'laitier': [{'name': 'Chavroux', 'value': 1},\n",
       "      {'name': 'yogurt', 'value': 1}]}]}]}"
      ]
     },
     "execution_count": 8,
     "metadata": {},
     "output_type": "execute_result"
    }
   ],
   "source": [
    "data"
   ]
  },
  {
   "cell_type": "code",
   "execution_count": 9,
   "id": "96322b37",
   "metadata": {},
   "outputs": [],
   "source": [
    "for row in data_clara['children']:\n",
    "    repas = row['Repas']\n",
    "    sort_list_repas = check_new(repas) \n",
    "sort_list_repas = sort_list_repas[1:]\n",
    "liste = ['Repas']\n",
    "\n",
    "data = {'name': 'Clara', 'children':{}}\n",
    "data['children'] = deepcopy(sort_list_repas)\n",
    "\n",
    "\n",
    "for idx,repas in enumerate(sort_list_repas):\n",
    "    liste_cat = ['Cat']\n",
    "    for row in data_clara['children']:\n",
    "        if row['Repas'] == repas:\n",
    "            cat = row['Categorie']\n",
    "            sort_list_cat = check_new_cat(cat)\n",
    "    sort_list_cat = sort_list_cat[1:]\n",
    "    data['children'][idx] = {'name':repas, 'children':sort_list_cat}\n",
    "\n",
    "    \n",
    "for idx,repas in enumerate(sort_list_repas):\n",
    "    sort_list_cat = data['children'][idx]['children']\n",
    "    for idx1,cat in enumerate(sort_list_cat):\n",
    "        liste_prod = [{'name': 'Prod', 'Value': 0}]\n",
    "        for row in data_clara['children']:\n",
    "            if row['Repas'] == repas:\n",
    "                if row['Categorie'] == cat:\n",
    "                    prod = row['Produit']\n",
    "                    sort_list_prod = check_new_prod(prod)\n",
    "        sort_list_prod = sort_list_prod[1:]\n",
    "        data['children'][idx]['children'][idx1] = {cat: sort_list_prod}"
   ]
  },
  {
   "cell_type": "code",
   "execution_count": 10,
   "id": "5502dccc",
   "metadata": {},
   "outputs": [
    {
     "data": {
      "text/plain": [
       "{'name': 'Clara',\n",
       " 'children': [{'name': 'boisson',\n",
       "   'children': [{'alcoolise': [{'name': 'biere', 'value': 3},\n",
       "      {'name': 'Bloody Mary', 'value': 1},\n",
       "      {'name': 'cidre', 'value': 1},\n",
       "      {'name': 'mezcal sour', 'value': 1},\n",
       "      {'name': 'Margarita', 'value': 1},\n",
       "      {'name': 'Ouzo', 'value': 1},\n",
       "      {'name': 'prosecco', 'value': 1},\n",
       "      {'name': 'tequila sour', 'value': 1},\n",
       "      {'name': 'vin', 'value': 8}]},\n",
       "    {'non alcoolise': [{'name': 'cafe', 'value': 10},\n",
       "      {'name': 'cafe glace', 'value': 1},\n",
       "      {'name': 'capuccino', 'value': 1},\n",
       "      {'name': 'coca cola', 'value': 1},\n",
       "      {'name': 'eau', 'value': 23},\n",
       "      {'name': 'Fanta orange', 'value': 1},\n",
       "      {'name': \"jus d'orange\", 'value': 1},\n",
       "      {'name': 'jus de mangue', 'value': 1},\n",
       "      {'name': 'jus de pêche', 'value': 1},\n",
       "      {'name': 'sirop grenadine', 'value': 1},\n",
       "      {'name': 'sirop mirabelle', 'value': 1},\n",
       "      {'name': 'tisane', 'value': 1}]}]},\n",
       "  {'name': 'dejeuner',\n",
       "   'children': [{'autre': [{'name': 'pizza anchois', 'value': 1},\n",
       "      {'name': 'poke bowl', 'value': 1},\n",
       "      {'name': 'ramequin fromage', 'value': 1},\n",
       "      {'name': 'tzatziki', 'value': 1}]},\n",
       "    {'cereales': [{'name': 'pain perdu', 'value': 1}]},\n",
       "    {'legumes': [{'name': 'petits pois', 'value': 1},\n",
       "      {'name': 'pois blancs', 'value': 1}]},\n",
       "    {'pates': [{'name': \"spaghetti all'arrabbiata\", 'value': 1}]},\n",
       "    {'salade': [{'name': 'laitue', 'value': 1},\n",
       "      {'name': 'salade grecque', 'value': 1}]},\n",
       "    {'sandwich': [{'name': 'gyros', 'value': 1},\n",
       "      {'name': 'lahmajun agneau', 'value': 1},\n",
       "      {'name': 'sandwich', 'value': 3}]},\n",
       "    {'viande': [{'name': \"ragoût d'agneau\", 'value': 1}]}]},\n",
       "  {'name': 'diner',\n",
       "   'children': [{'autre': [{'name': 'moussaka', 'value': 1},\n",
       "      {'name': 'patatas bravas', 'value': 1},\n",
       "      {'name': 'pizza napoletana', 'value': 1},\n",
       "      {'name': 'tomme', 'value': 1}]},\n",
       "    {'cereales': [{'name': 'pain', 'value': 1}]},\n",
       "    {'dessert': [{'name': 'creme brûlee', 'value': 1}]},\n",
       "    {'pates': [{'name': 'lasagnes', 'value': 1},\n",
       "      {'name': 'spaghetti bolognese', 'value': 1}]},\n",
       "    {'salade': [{'name': 'salade caprese', 'value': 1},\n",
       "      {'name': 'salade de pois chiches', 'value': 1},\n",
       "      {'name': 'salade grecque', 'value': 1},\n",
       "      {'name': 'salade mêlee', 'value': 1}]},\n",
       "    {'sandwich': [{'name': 'cheeseburger', 'value': 1},\n",
       "      {'name': 'gyros porc', 'value': 1},\n",
       "      {'name': 'sandwich', 'value': 1}]},\n",
       "    {'viande': [{'name': 'tartare de veau', 'value': 1}]}]},\n",
       "  {'name': 'petit dejeuner',\n",
       "   'children': [{'boulangerie': [{'name': 'croissant', 'value': 2},\n",
       "      {'name': 'tartine au miel', 'value': 1},\n",
       "      {'name': 'tartines a la sobrasada', 'value': 1},\n",
       "      {'name': 'tartines au Cenovis', 'value': 1}]},\n",
       "    {'cereales': [{'name': 'muesli', 'value': 6}]},\n",
       "    {'dessert': [{'name': 'cookie chocolat', 'value': 1}]},\n",
       "    {'fruit': [{'name': 'banane', 'value': 2},\n",
       "      {'name': 'pomme', 'value': 1}]}]},\n",
       "  {'name': 'snack',\n",
       "   'children': [{'autre': [{'name': 'chips au bacon', 'value': 1}]},\n",
       "    {'dessert': [{'name': 'glace au Tiramisu', 'value': 1},\n",
       "      {'name': 'Maltesers', 'value': 1},\n",
       "      {'name': 'tarte rhubarbe', 'value': 1},\n",
       "      {'name': \"cake a l'orange\", 'value': 1}]}]}]}"
      ]
     },
     "execution_count": 10,
     "metadata": {},
     "output_type": "execute_result"
    }
   ],
   "source": [
    "data"
   ]
  },
  {
   "cell_type": "code",
   "execution_count": null,
   "id": "b1c26fd7",
   "metadata": {},
   "outputs": [],
   "source": []
  }
 ],
 "metadata": {
  "kernelspec": {
   "display_name": "Python 3 (ipykernel)",
   "language": "python",
   "name": "python3"
  },
  "language_info": {
   "codemirror_mode": {
    "name": "ipython",
    "version": 3
   },
   "file_extension": ".py",
   "mimetype": "text/x-python",
   "name": "python",
   "nbconvert_exporter": "python",
   "pygments_lexer": "ipython3",
   "version": "3.9.12"
  }
 },
 "nbformat": 4,
 "nbformat_minor": 5
}
